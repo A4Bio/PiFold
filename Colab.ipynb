{
 "cells": [
  {
   "cell_type": "code",
   "execution_count": 14,
   "metadata": {},
   "outputs": [],
   "source": [
    "import json\n",
    "import numpy as np"
   ]
  },
  {
   "cell_type": "markdown",
   "metadata": {},
   "source": [
    "## 1. Load model"
   ]
  },
  {
   "cell_type": "code",
   "execution_count": null,
   "metadata": {},
   "outputs": [],
   "source": [
    "import argparse\n",
    "parser = argparse.ArgumentParser()\n",
    "# Set-up parameters\n",
    "parser.add_argument('--device', default='cuda', type=str, help='Name of device to use for tensor computations (cuda/cpu)')\n",
    "parser.add_argument('--display_step', default=10, type=int, help='Interval in batches between display of training metrics')\n",
    "parser.add_argument('--res_dir', default='./results', type=str)\n",
    "parser.add_argument('--ex_name', default='debug', type=str)\n",
    "parser.add_argument('--use_gpu', default=True, type=bool)\n",
    "parser.add_argument('--gpu', default=0, type=int)\n",
    "parser.add_argument('--seed', default=111, type=int)\n",
    "\n",
    "# CATH\n",
    "# dataset parameters\n",
    "parser.add_argument('--data_name', default='CATH', choices=['CATH', 'TS50'])\n",
    "parser.add_argument('--data_root', default='./data/')\n",
    "parser.add_argument('--batch_size', default=8, type=int)\n",
    "parser.add_argument('--num_workers', default=8, type=int)\n",
    "\n",
    "# method parameters\n",
    "parser.add_argument('--method', default='SimDesign', choices=['SimDesign'])\n",
    "parser.add_argument('--config_file', '-c', default=None, type=str)\n",
    "parser.add_argument('--hidden_dim',  default=128, type=int)\n",
    "parser.add_argument('--node_features',  default=128, type=int)\n",
    "parser.add_argument('--edge_features',  default=128, type=int)\n",
    "parser.add_argument('--k_neighbors',  default=30, type=int)\n",
    "parser.add_argument('--dropout',  default=0.1, type=int)\n",
    "parser.add_argument('--num_encoder_layers', default=10, type=int)\n",
    "\n",
    "# Training parameters\n",
    "parser.add_argument('--epoch', default=100, type=int, help='end epoch')\n",
    "parser.add_argument('--log_step', default=1, type=int)\n",
    "parser.add_argument('--lr', default=0.001, type=float, help='Learning rate')\n",
    "parser.add_argument('--patience', default=100, type=int)\n",
    "\n",
    "# ProDesign parameters\n",
    "parser.add_argument('--updating_edges', default=4, type=int)\n",
    "parser.add_argument('--node_dist', default=1, type=int)\n",
    "parser.add_argument('--node_angle', default=1, type=int)\n",
    "parser.add_argument('--node_direct', default=1, type=int)\n",
    "parser.add_argument('--edge_dist', default=1, type=int)\n",
    "parser.add_argument('--edge_angle', default=1, type=int)\n",
    "parser.add_argument('--edge_direct', default=1, type=int)\n",
    "parser.add_argument('--virtual_num', default=3, type=int)\n",
    "args = parser.parse_args([])\n",
    "\n",
    "import torch\n",
    "from main import Exp\n",
    "from parser import create_parser\n",
    "exp = Exp(args)\n",
    "svpath = './results/ProDesign/'\n",
    "exp.method.model.load_state_dict(torch.load(svpath+'checkpoint.pth'))"
   ]
  },
  {
   "cell_type": "markdown",
   "metadata": {},
   "source": [
    "## 2. Results on CATH4.2"
   ]
  },
  {
   "cell_type": "code",
   "execution_count": null,
   "metadata": {},
   "outputs": [],
   "source": [
    "exp.test()\n",
    "print(\"median: {:.4f}\\t mean: {:.4f}\\t std: {:.4f}\\t min: {:.4f}\\t max: {:.4f}\".format(exp.method.median_recovery, exp.method.mean_recovery, exp.method.std_recovery, exp.method.min_recovery, exp.method.max_recovery))"
   ]
  },
  {
   "cell_type": "markdown",
   "metadata": {},
   "source": [
    "## 3. Results on TS50"
   ]
  },
  {
   "cell_type": "code",
   "execution_count": 15,
   "metadata": {},
   "outputs": [],
   "source": [
    "from API.dataloader import make_cath_loader\n",
    "from API.cath_dataset import CATH\n",
    "\n",
    "with open('./data/ts/ts50.json','r') as f:\n",
    "    ts50 = json.load(f)\n",
    "\n",
    "\n",
    "ts50_list = []\n",
    "for entry in ts50:\n",
    "    coords = np.array(entry['coords'])\n",
    "    ts50_list.append(\n",
    "        {\n",
    "                    'title':entry['name'],\n",
    "                    'seq':entry['seq'],\n",
    "                    'CA':coords[:,1,:],\n",
    "                    'C':coords[:,2,:],\n",
    "                    'O':coords[:,3,:],\n",
    "                    'N':coords[:,0,:]\n",
    "        }\n",
    "    )\n",
    "exp.test_loader = make_cath_loader(CATH(data=ts50_list), 'SimDesign', 8)"
   ]
  },
  {
   "cell_type": "code",
   "execution_count": 16,
   "metadata": {},
   "outputs": [
    {
     "name": "stderr",
     "output_type": "stream",
     "text": [
      "test loss: 1.2509: 100%|██████████| 7/7 [00:01<00:00,  5.54it/s]\n",
      "100%|██████████| 50/50 [00:01<00:00, 29.85it/s]\n"
     ]
    },
    {
     "name": "stdout",
     "output_type": "stream",
     "text": [
      "Test Perp: 3.8553, Test Rec: 0.5872\n",
      "\n",
      "Category Unknown Rec: 0.5872\n",
      "\n",
      "median: 0.5872\t mean: 0.5654\t std: 0.0887\t min: 0.3724\t max: 0.7530\n"
     ]
    }
   ],
   "source": [
    "exp.test()\n",
    "print(\"median: {:.4f}\\t mean: {:.4f}\\t std: {:.4f}\\t min: {:.4f}\\t max: {:.4f}\".format(exp.method.median_recovery, exp.method.mean_recovery, exp.method.std_recovery, exp.method.min_recovery, exp.method.max_recovery))"
   ]
  },
  {
   "cell_type": "markdown",
   "metadata": {},
   "source": [
    "## Results on TS500"
   ]
  },
  {
   "cell_type": "code",
   "execution_count": 17,
   "metadata": {},
   "outputs": [],
   "source": [
    "with open('./data/ts/ts500.json','r') as f:\n",
    "    ts500 = json.load(f)\n",
    "\n",
    "\n",
    "ts500_list = []\n",
    "for entry in ts500:\n",
    "    coords = np.array(entry['coords'])\n",
    "    ts500_list.append(\n",
    "        {\n",
    "                    'title':entry['name'],\n",
    "                    'seq':entry['seq'],\n",
    "                    'CA':coords[:,1,:],\n",
    "                    'C':coords[:,2,:],\n",
    "                    'O':coords[:,3,:],\n",
    "                    'N':coords[:,0,:]\n",
    "        }\n",
    "    )\n",
    "exp.test_loader = make_cath_loader(CATH(data=ts500_list), 'SimDesign', 8)"
   ]
  },
  {
   "cell_type": "code",
   "execution_count": 18,
   "metadata": {},
   "outputs": [
    {
     "name": "stderr",
     "output_type": "stream",
     "text": [
      "test loss: 1.6132: 100%|██████████| 63/63 [00:06<00:00,  9.68it/s]\n",
      "100%|██████████| 500/500 [00:17<00:00, 28.06it/s]"
     ]
    },
    {
     "name": "stdout",
     "output_type": "stream",
     "text": [
      "Test Perp: 3.4403, Test Rec: 0.6046\n",
      "\n",
      "Category Unknown Rec: 0.6046\n",
      "\n",
      "median: 0.6046\t mean: 0.5932\t std: 0.1077\t min: 0.0296\t max: 0.8680\n"
     ]
    },
    {
     "name": "stderr",
     "output_type": "stream",
     "text": [
      "\n"
     ]
    }
   ],
   "source": [
    "exp.test()\n",
    "print(\"median: {:.4f}\\t mean: {:.4f}\\t std: {:.4f}\\t min: {:.4f}\\t max: {:.4f}\".format(exp.method.median_recovery, exp.method.mean_recovery, exp.method.std_recovery, exp.method.min_recovery, exp.method.max_recovery))"
   ]
  }
 ],
 "metadata": {
  "kernelspec": {
   "display_name": "Python 3.7.12 ('equibind')",
   "language": "python",
   "name": "python3"
  },
  "language_info": {
   "codemirror_mode": {
    "name": "ipython",
    "version": 3
   },
   "file_extension": ".py",
   "mimetype": "text/x-python",
   "name": "python",
   "nbconvert_exporter": "python",
   "pygments_lexer": "ipython3",
   "version": "3.7.12"
  },
  "orig_nbformat": 4,
  "vscode": {
   "interpreter": {
    "hash": "43ba559bd9b9425188d86553db18524406fb2a85e37c133054cdad2bbfee5c31"
   }
  }
 },
 "nbformat": 4,
 "nbformat_minor": 2
}
